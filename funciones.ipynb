{
 "cells": [
  {
   "cell_type": "code",
   "execution_count": null,
   "id": "50271afb",
   "metadata": {},
   "outputs": [],
   "source": [
    "#Radio del círculo\n",
    "from math import pi\n",
    "\n",
    "def area_circulo(radio):\n",
    "    \n"
   ]
  }
 ],
 "metadata": {
  "language_info": {
   "name": "python"
  }
 },
 "nbformat": 4,
 "nbformat_minor": 5
}
