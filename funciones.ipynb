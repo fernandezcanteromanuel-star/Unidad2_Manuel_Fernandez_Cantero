{
 "cells": [
  {
   "cell_type": "code",
   "execution_count": 8,
   "id": "50271afb",
   "metadata": {},
   "outputs": [
    {
     "data": {
      "text/plain": [
       "201.06192982974676"
      ]
     },
     "execution_count": 8,
     "metadata": {},
     "output_type": "execute_result"
    }
   ],
   "source": [
    "#Radio del círculo\n",
    "from math import pi\n",
    "\n",
    "\n",
    "def area_circulo(radio):\n",
    "    return pi*radio*radio\n",
    "\n",
    "radio = float(input('Radio del círculo: '))\n",
    "\n",
    "area_circulo(radio)\n",
    "    \n"
   ]
  },
  {
   "cell_type": "code",
   "execution_count": 11,
   "id": "ad144bd8",
   "metadata": {},
   "outputs": [
    {
     "data": {
      "text/plain": [
       "14.0"
      ]
     },
     "execution_count": 11,
     "metadata": {},
     "output_type": "execute_result"
    }
   ],
   "source": [
    "#Mayor()\n",
    "\n",
    "def lee_numero():\n",
    "    n = int(input('Quién es Diego sniper?: '))\n",
    "    i = 0\n",
    "    lista = []\n",
    "    while i < n:\n",
    "        numero = float(input('Número: '))\n",
    "        lista.append(numero)\n",
    "        i += 1\n",
    "    return lista\n",
    "\n",
    "def mayor(lista):\n",
    "    lista.sort()\n",
    "    return lista[-1]\n",
    "\n",
    "a = lee_numero()\n",
    "mayor(a)\n",
    "\n",
    "        "
   ]
  },
  {
   "cell_type": "code",
   "execution_count": null,
   "id": "8a958060",
   "metadata": {},
   "outputs": [],
   "source": []
  }
 ],
 "metadata": {
  "kernelspec": {
   "display_name": "base",
   "language": "python",
   "name": "python3"
  },
  "language_info": {
   "codemirror_mode": {
    "name": "ipython",
    "version": 3
   },
   "file_extension": ".py",
   "mimetype": "text/x-python",
   "name": "python",
   "nbconvert_exporter": "python",
   "pygments_lexer": "ipython3",
   "version": "3.13.5"
  }
 },
 "nbformat": 4,
 "nbformat_minor": 5
}
