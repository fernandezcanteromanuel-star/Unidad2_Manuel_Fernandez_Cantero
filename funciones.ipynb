{
 "cells": [
  {
   "cell_type": "code",
   "execution_count": 8,
   "id": "50271afb",
   "metadata": {},
   "outputs": [
    {
     "data": {
      "text/plain": [
       "201.06192982974676"
      ]
     },
     "execution_count": 8,
     "metadata": {},
     "output_type": "execute_result"
    }
   ],
   "source": [
    "#Radio del círculo\n",
    "from math import pi\n",
    "\n",
    "\n",
    "def area_circulo(radio):\n",
    "    return pi*radio*radio\n",
    "\n",
    "radio = float(input('Radio del círculo: '))\n",
    "\n",
    "area_circulo(radio)\n",
    "    \n"
   ]
  },
  {
   "cell_type": "code",
   "execution_count": null,
   "id": "ad144bd8",
   "metadata": {},
   "outputs": [],
   "source": []
  }
 ],
 "metadata": {
  "kernelspec": {
   "display_name": "base",
   "language": "python",
   "name": "python3"
  },
  "language_info": {
   "codemirror_mode": {
    "name": "ipython",
    "version": 3
   },
   "file_extension": ".py",
   "mimetype": "text/x-python",
   "name": "python",
   "nbconvert_exporter": "python",
   "pygments_lexer": "ipython3",
   "version": "3.13.5"
  }
 },
 "nbformat": 4,
 "nbformat_minor": 5
}
