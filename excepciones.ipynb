{
 "cells": [
  {
   "cell_type": "code",
   "execution_count": 3,
   "id": "0e6f83b0",
   "metadata": {},
   "outputs": [
    {
     "name": "stdout",
     "output_type": "stream",
     "text": [
      "x/0 no está definido\n"
     ]
    }
   ],
   "source": [
    "# Error dividir por 0\n",
    "\n",
    "try:\n",
    "    n = 7/0\n",
    "except ZeroDivisionError:\n",
    "    print('x/0 no está definido')\n"
   ]
  },
  {
   "cell_type": "code",
   "execution_count": 5,
   "id": "e46c55cf",
   "metadata": {},
   "outputs": [
    {
     "name": "stdout",
     "output_type": "stream",
     "text": [
      "El índice introducido está fuera del rango de la lista\n"
     ]
    }
   ],
   "source": [
    "# Índice fuera de rango\n",
    "\n",
    "try:\n",
    "    lista = [4, 7, 30, 23, 5]\n",
    "    lista[10]\n",
    "except IndexError:\n",
    "    print('El índice introducido está fuera del rango de la lista')"
   ]
  },
  {
   "cell_type": "code",
   "execution_count": 6,
   "id": "3ef0f6ff",
   "metadata": {},
   "outputs": [
    {
     "name": "stdout",
     "output_type": "stream",
     "text": [
      "No existe la clave\n"
     ]
    }
   ],
   "source": [
    "# Clave que no existe\n",
    "\n",
    "try:\n",
    "    paises = { \"españa\":\"español\", \"eeuu\":\"inglés\", \"italia\":\"italiano\" } \n",
    "    paises[\"alemania\"]\n",
    "except KeyError:\n",
    "    print('No existe la clave')\n"
   ]
  },
  {
   "cell_type": "code",
   "execution_count": 8,
   "id": "94538ef6",
   "metadata": {},
   "outputs": [
    {
     "name": "stdout",
     "output_type": "stream",
     "text": [
      "Error de tipo\n"
     ]
    }
   ],
   "source": [
    "# TypeError\n",
    "\n",
    "try:\n",
    "    resultado = \"2\" + 10\n",
    "except TypeError:\n",
    "    print('Error de tipo')"
   ]
  },
  {
   "cell_type": "code",
   "execution_count": null,
   "id": "117ea6be",
   "metadata": {},
   "outputs": [],
   "source": []
  }
 ],
 "metadata": {
  "kernelspec": {
   "display_name": "base",
   "language": "python",
   "name": "python3"
  },
  "language_info": {
   "codemirror_mode": {
    "name": "ipython",
    "version": 3
   },
   "file_extension": ".py",
   "mimetype": "text/x-python",
   "name": "python",
   "nbconvert_exporter": "python",
   "pygments_lexer": "ipython3",
   "version": "3.13.5"
  }
 },
 "nbformat": 4,
 "nbformat_minor": 5
}
