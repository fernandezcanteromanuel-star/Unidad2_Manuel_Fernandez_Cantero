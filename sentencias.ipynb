{
 "cells": [
  {
   "cell_type": "code",
   "execution_count": null,
   "id": "8e8a8bcb",
   "metadata": {},
   "outputs": [],
   "source": [
    "#Ejercicio primero\n",
    "\n",
    "a = input('Numero:')\n",
    "b = input('Numero:')\n",
    "c = input('Numero:')\n",
    "\n",
    "if a < b and b < c:\n",
    "    print('Orden ascendente')\n",
    "elif a > b and b > c:\n",
    "    print('Orden descendente')\n",
    "elif a == 0:\n",
    "    print('Primer número 0')\n",
    "\n"
   ]
  }
 ],
 "metadata": {
  "language_info": {
   "name": "python"
  }
 },
 "nbformat": 4,
 "nbformat_minor": 5
}
