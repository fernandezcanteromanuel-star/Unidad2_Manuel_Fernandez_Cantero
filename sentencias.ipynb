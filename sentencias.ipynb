{
 "cells": [
  {
   "cell_type": "code",
   "execution_count": 9,
   "id": "8e8a8bcb",
   "metadata": {},
   "outputs": [
    {
     "name": "stdout",
     "output_type": "stream",
     "text": [
      "No hay orden\n"
     ]
    }
   ],
   "source": [
    "#Ejercicio primero\n",
    "\n",
    "a = float(input('Numero:'))\n",
    "b = float(input('Numero:'))\n",
    "c = float(input('Numero:'))\n",
    "\n",
    "if a != float(0):   \n",
    "    if a < b and b < c:\n",
    "        print('Orden ascendente')\n",
    "    elif a > b and b > c:\n",
    "        print('Orden descendente')\n",
    "    else:\n",
    "        print('No hay orden')\n",
    "if a == float(0):\n",
    "    print('Primer número no puede ser 0')\n"
   ]
  },
  {
   "cell_type": "code",
   "execution_count": 13,
   "id": "2aeb5e1a",
   "metadata": {},
   "outputs": [
    {
     "name": "stdout",
     "output_type": "stream",
     "text": [
      "Primer número no puede ser 0 o hay repetidos\n"
     ]
    }
   ],
   "source": [
    "#Segundo ejercicio, igual que el anterior con listas\n",
    "n = 3\n",
    "i = 0\n",
    "numeros = []\n",
    "while i < n:\n",
    "    numero = float(input('Numero:'))\n",
    "    numeros.append(numero)\n",
    "    i += 1\n",
    "if (numeros[0] != 0) and len(set(numeros)) == len(numeros):\n",
    "    if numeros[0] < numeros[1] and numeros[1] < numeros[2]:\n",
    "        print('Orden ascendente')\n",
    "    elif numeros[0] > numeros[1] and numeros[1] > numeros[2]:\n",
    "        print('Orden descendente')\n",
    "    else:\n",
    "        print('No hay orden')\n",
    "if (numeros[0] == 0) or len(set(numeros)) != len(numeros):\n",
    "    print('Primer número no puede ser 0 o hay repetidos')"
   ]
  },
  {
   "cell_type": "code",
   "execution_count": null,
   "id": "7a542631",
   "metadata": {},
   "outputs": [],
   "source": []
  }
 ],
 "metadata": {
  "kernelspec": {
   "display_name": "base",
   "language": "python",
   "name": "python3"
  },
  "language_info": {
   "codemirror_mode": {
    "name": "ipython",
    "version": 3
   },
   "file_extension": ".py",
   "mimetype": "text/x-python",
   "name": "python",
   "nbconvert_exporter": "python",
   "pygments_lexer": "ipython3",
   "version": "3.13.5"
  }
 },
 "nbformat": 4,
 "nbformat_minor": 5
}
