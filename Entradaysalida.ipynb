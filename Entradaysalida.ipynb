{
 "cells": [
  {
   "cell_type": "code",
   "execution_count": null,
   "id": "dc2abc64",
   "metadata": {},
   "outputs": [
    {
     "name": "stdout",
     "output_type": "stream",
     "text": [
      "100 <class 'str'>\n"
     ]
    }
   ],
   "source": [
    "#Ejercicio primero\n",
    "\n",
    "a = input('introduce un número: ')\n",
    "print(a, type(a))"
   ]
  },
  {
   "cell_type": "code",
   "execution_count": 2,
   "id": "e8728ad9",
   "metadata": {},
   "outputs": [
    {
     "name": "stdout",
     "output_type": "stream",
     "text": [
      "100 <class 'int'>\n"
     ]
    }
   ],
   "source": [
    "b = int(input('introduce un número: '))\n",
    "print(b, type(b))"
   ]
  },
  {
   "cell_type": "code",
   "execution_count": 3,
   "id": "8c99fc91",
   "metadata": {},
   "outputs": [
    {
     "name": "stdout",
     "output_type": "stream",
     "text": [
      "12.5 <class 'float'>\n"
     ]
    }
   ],
   "source": [
    "c = float(input('introduce un número: '))\n",
    "print(c, type(c))"
   ]
  },
  {
   "cell_type": "code",
   "execution_count": 27,
   "id": "cb748a83",
   "metadata": {},
   "outputs": [
    {
     "name": "stdout",
     "output_type": "stream",
     "text": [
      "00004\n"
     ]
    }
   ],
   "source": [
    "#Ejercicio segundo\n",
    "#Entero\n",
    "entero = int(input('Número entero:'))\n",
    "print('{:05d}'.format(entero))"
   ]
  },
  {
   "cell_type": "code",
   "execution_count": 26,
   "id": "a1f10037",
   "metadata": {},
   "outputs": [
    {
     "name": "stdout",
     "output_type": "stream",
     "text": [
      "00123.457\n"
     ]
    }
   ],
   "source": [
    "#flotante\n",
    "flotante = float(input('Número flotante:'))\n",
    "print('{:09.3f}'.format(flotante))  #9 = 5 digitos enteros + punto + 3 decimales"
   ]
  },
  {
   "cell_type": "code",
   "execution_count": 29,
   "id": "662f3110",
   "metadata": {},
   "outputs": [
    {
     "name": "stdout",
     "output_type": "stream",
     "text": [
      "La altura es de: 1.8m, y el peso es de: 80.0kg\n",
      "La altura es de: 1.8m, y el peso es de: 80.0kg\n",
      "La altura es de: 1.8m, y el peso es de: 80.0kg\n"
     ]
    }
   ],
   "source": [
    "#Altura y peso\n",
    "altura = float(input('Altura (m):'))\n",
    "peso = float(input('Peso (kg):'))\n",
    "\n",
    "print('La altura es de: {}m, y el peso es de: {}kg'.format(altura, peso))\n",
    "print('La altura es de: {1}m, y el peso es de: {0}kg'.format(peso, altura))\n",
    "print(f'La altura es de: {altura}m, y el peso es de: {peso}kg')"
   ]
  },
  {
   "cell_type": "code",
   "execution_count": null,
   "id": "4b175c04",
   "metadata": {},
   "outputs": [],
   "source": []
  }
 ],
 "metadata": {
  "kernelspec": {
   "display_name": "base",
   "language": "python",
   "name": "python3"
  },
  "language_info": {
   "codemirror_mode": {
    "name": "ipython",
    "version": 3
   },
   "file_extension": ".py",
   "mimetype": "text/x-python",
   "name": "python",
   "nbconvert_exporter": "python",
   "pygments_lexer": "ipython3",
   "version": "3.13.5"
  }
 },
 "nbformat": 4,
 "nbformat_minor": 5
}
