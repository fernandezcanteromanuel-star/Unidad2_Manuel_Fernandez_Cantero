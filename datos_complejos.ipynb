{
 "cells": [
  {
   "cell_type": "code",
   "execution_count": 2,
   "id": "96ce8293",
   "metadata": {},
   "outputs": [
    {
     "name": "stdout",
     "output_type": "stream",
     "text": [
      "['Mercedes', 'Lambo', 'Ferrari', 'Toyota', 'Opel']\n",
      "('Mercedes', 'Lambo', 'Ferrari', 'Toyota', 'Opel')\n"
     ]
    }
   ],
   "source": [
    "lista = ['Mercedes', 'Lambo', 'Ferrari', 'Toyota', 'Opel']\n",
    "tupla = ('Mercedes', 'Lambo', 'Ferrari', 'Toyota', 'Opel')\n",
    "print(lista)\n",
    "print(tupla)"
   ]
  },
  {
   "cell_type": "code",
   "execution_count": 3,
   "id": "55f27f77",
   "metadata": {},
   "outputs": [
    {
     "name": "stdout",
     "output_type": "stream",
     "text": [
      "Lambo\n",
      "Toyota\n"
     ]
    }
   ],
   "source": [
    "print(lista[1])\n",
    "print(tupla[-2])"
   ]
  },
  {
   "cell_type": "code",
   "execution_count": null,
   "id": "d5b40e93",
   "metadata": {},
   "outputs": [
    {
     "name": "stdout",
     "output_type": "stream",
     "text": [
      "['Mercedes', 'Audi', 'Ferrari', 'Toyota', 'Opel']\n"
     ]
    }
   ],
   "source": [
    "lista[1] = 'Audi'\n",
    "print(lista)\n",
    "#Las tuplas son inmutables"
   ]
  },
  {
   "cell_type": "code",
   "execution_count": 5,
   "id": "1de686f0",
   "metadata": {},
   "outputs": [
    {
     "name": "stdout",
     "output_type": "stream",
     "text": [
      "5\n",
      "5\n"
     ]
    }
   ],
   "source": [
    "print(len(lista))\n",
    "print(len(tupla))"
   ]
  },
  {
   "cell_type": "code",
   "execution_count": 7,
   "id": "7da56c0e",
   "metadata": {},
   "outputs": [
    {
     "name": "stdout",
     "output_type": "stream",
     "text": [
      "True\n",
      "False\n"
     ]
    }
   ],
   "source": [
    "print('Audi' in lista)\n",
    "print('Audi' in tupla)"
   ]
  },
  {
   "cell_type": "code",
   "execution_count": 8,
   "id": "0ea0aa57",
   "metadata": {},
   "outputs": [
    {
     "name": "stdout",
     "output_type": "stream",
     "text": [
      "['Mercedes', 'Audi', 'Ferrari', 'Toyota', 'Opel', 'Renault']\n"
     ]
    }
   ],
   "source": [
    "lista.append('Renault')\n",
    "print(lista)\n",
    "#Las tuplas son inmutables"
   ]
  },
  {
   "cell_type": "code",
   "execution_count": null,
   "id": "f176016d",
   "metadata": {},
   "outputs": [
    {
     "name": "stdout",
     "output_type": "stream",
     "text": [
      "[]\n"
     ]
    }
   ],
   "source": [
    "for i in range(0, len(lista)):\n",
    "    del lista[i]\n",
    "print(lista)\n",
    "#Las tuplas son inmutables"
   ]
  },
  {
   "cell_type": "code",
   "execution_count": 1,
   "id": "17cf510f",
   "metadata": {},
   "outputs": [
    {
     "name": "stdout",
     "output_type": "stream",
     "text": [
      "{'Mercedes', 'Opel', 'Lambo', 'Ferrari', 'Toyota'}\n",
      "{'Marca1': 'Mercedes', 'Marca2': 'Lambo', 'Marca3': 'Ferrari', 'Marca4': 'Toyota', 'Marca5': 'Opel'}\n"
     ]
    }
   ],
   "source": [
    "Un_set = {'Mercedes', 'Lambo', 'Ferrari', 'Toyota', 'Opel'}\n",
    "Diccionario = {'Marca1': 'Mercedes', 'Marca2': 'Lambo', 'Marca3': 'Ferrari', 'Marca4': 'Toyota', 'Marca5': 'Opel'}\n",
    "print(Un_set)\n",
    "print(Diccionario)"
   ]
  },
  {
   "cell_type": "code",
   "execution_count": 3,
   "id": "29093837",
   "metadata": {},
   "outputs": [
    {
     "name": "stdout",
     "output_type": "stream",
     "text": [
      "Mercedes\n"
     ]
    }
   ],
   "source": [
    "#print(Un_set[0]) no se puede acceder por indice\n",
    "print(Diccionario['Marca1'])"
   ]
  },
  {
   "cell_type": "code",
   "execution_count": 6,
   "id": "37218bf7",
   "metadata": {},
   "outputs": [
    {
     "name": "stdout",
     "output_type": "stream",
     "text": [
      "{'Marca1': 'Audi', 'Marca2': 'Lambo', 'Marca3': 'Ferrari', 'Marca4': 'Toyota', 'Marca5': 'Opel'}\n"
     ]
    }
   ],
   "source": [
    "#Un_set[0] = 'hola' no se puede tampoco\n",
    "Diccionario['Marca1'] = 'Audi'\n",
    "print(Diccionario)"
   ]
  },
  {
   "cell_type": "code",
   "execution_count": 7,
   "id": "b6428d83",
   "metadata": {},
   "outputs": [
    {
     "name": "stdout",
     "output_type": "stream",
     "text": [
      "5\n",
      "5\n"
     ]
    }
   ],
   "source": [
    "print(len(Un_set))\n",
    "print(len(Diccionario))\n"
   ]
  },
  {
   "cell_type": "code",
   "execution_count": 8,
   "id": "eb0a9444",
   "metadata": {},
   "outputs": [
    {
     "name": "stdout",
     "output_type": "stream",
     "text": [
      "True\n",
      "False\n"
     ]
    }
   ],
   "source": [
    "print('Mercedes' in Un_set)\n",
    "print('Mercedes' in Diccionario)"
   ]
  },
  {
   "cell_type": "code",
   "execution_count": 9,
   "id": "68689ce1",
   "metadata": {},
   "outputs": [
    {
     "name": "stdout",
     "output_type": "stream",
     "text": [
      "{'Mercedes', 'Opel', 'Lambo', 'Ferrari', 'Renault', 'Toyota'}\n",
      "{'Marca1': 'Audi', 'Marca2': 'Lambo', 'Marca3': 'Ferrari', 'Marca4': 'Toyota', 'Marca5': 'Opel', 'Marca6': 'Renault'}\n"
     ]
    }
   ],
   "source": [
    "Un_set.add('Renault')\n",
    "print(Un_set)\n",
    "Diccionario['Marca6'] = 'Renault'\n",
    "print(Diccionario)"
   ]
  },
  {
   "cell_type": "code",
   "execution_count": 10,
   "id": "ff469a0d",
   "metadata": {},
   "outputs": [
    {
     "name": "stdout",
     "output_type": "stream",
     "text": [
      "set()\n",
      "{}\n"
     ]
    }
   ],
   "source": [
    "Un_set.clear()\n",
    "print(Un_set)\n",
    "Diccionario.clear()\n",
    "print(Diccionario)"
   ]
  },
  {
   "cell_type": "code",
   "execution_count": null,
   "id": "354c1bbe",
   "metadata": {},
   "outputs": [],
   "source": []
  }
 ],
 "metadata": {
  "kernelspec": {
   "display_name": "base",
   "language": "python",
   "name": "python3"
  },
  "language_info": {
   "codemirror_mode": {
    "name": "ipython",
    "version": 3
   },
   "file_extension": ".py",
   "mimetype": "text/x-python",
   "name": "python",
   "nbconvert_exporter": "python",
   "pygments_lexer": "ipython3",
   "version": "3.13.5"
  }
 },
 "nbformat": 4,
 "nbformat_minor": 5
}
