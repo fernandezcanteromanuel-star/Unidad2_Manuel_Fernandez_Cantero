{
 "cells": [
  {
   "cell_type": "code",
   "execution_count": 2,
   "id": "96ce8293",
   "metadata": {},
   "outputs": [
    {
     "name": "stdout",
     "output_type": "stream",
     "text": [
      "['Mercedes', 'Lambo', 'Ferrari', 'Toyota', 'Opel']\n",
      "('Mercedes', 'Lambo', 'Ferrari', 'Toyota', 'Opel')\n"
     ]
    }
   ],
   "source": [
    "lista = ['Mercedes', 'Lambo', 'Ferrari', 'Toyota', 'Opel']\n",
    "tupla = ('Mercedes', 'Lambo', 'Ferrari', 'Toyota', 'Opel')\n",
    "print(lista)\n",
    "print(tupla)"
   ]
  },
  {
   "cell_type": "code",
   "execution_count": 3,
   "id": "55f27f77",
   "metadata": {},
   "outputs": [
    {
     "name": "stdout",
     "output_type": "stream",
     "text": [
      "Lambo\n",
      "Toyota\n"
     ]
    }
   ],
   "source": [
    "print(lista[1])\n",
    "print(tupla[-2])"
   ]
  },
  {
   "cell_type": "code",
   "execution_count": null,
   "id": "d5b40e93",
   "metadata": {},
   "outputs": [
    {
     "name": "stdout",
     "output_type": "stream",
     "text": [
      "['Mercedes', 'Audi', 'Ferrari', 'Toyota', 'Opel']\n"
     ]
    }
   ],
   "source": [
    "lista[1] = 'Audi'\n",
    "print(lista)\n",
    "#Las tuplas son inmutables"
   ]
  },
  {
   "cell_type": "code",
   "execution_count": null,
   "id": "1de686f0",
   "metadata": {},
   "outputs": [],
   "source": []
  }
 ],
 "metadata": {
  "kernelspec": {
   "display_name": "base",
   "language": "python",
   "name": "python3"
  },
  "language_info": {
   "codemirror_mode": {
    "name": "ipython",
    "version": 3
   },
   "file_extension": ".py",
   "mimetype": "text/x-python",
   "name": "python",
   "nbconvert_exporter": "python",
   "pygments_lexer": "ipython3",
   "version": "3.13.5"
  }
 },
 "nbformat": 4,
 "nbformat_minor": 5
}
